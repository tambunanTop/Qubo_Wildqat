{
 "cells": [
  {
   "cell_type": "markdown",
   "metadata": {},
   "source": [
    "# Coba-1 : Qubo Operasi 1+1\n",
    "\n",
    "Percobaan berikut ini akan membahas masalah penjumlahan sederhana;\n",
    "\n",
    "$1 + 1 = x$\n",
    "\n",
    "$2 = x$\n",
    "\n",
    "$0 = x -2$\n",
    "\n",
    "Operasi penjumlahan diatas bernilai equivalent dengan persamaan minimum (E) berikut ini,\n",
    "\n",
    "$E = (x-2)^2$\n",
    "\n",
    "$E = x^2 - 4x + 4$\n",
    "\n",
    "selain itu, x dapat juga ditulis dalam bentuk desimal menggunakan 2 qubits biner (0,1)\n",
    "\n",
    "$x = q_0 + 2q_1$\n",
    "\n",
    "kemudian substitusikan kedalam persamaan E;\n",
    "\n",
    "$E = (q_0 + 2q_1)^2 -4(q_0 + 2q_1) + 4$\n",
    "\n",
    "$E = q_0^2 + 4q_0q_1 + 4q_1^2 -4q_0 - 8q_1 + 4$\n",
    "\n",
    "Dengan mengikut aturan biner pada pengerjaan Qubo, maka berlaku persamaan berikut;\n",
    "\n",
    "$q_0^2 = q_0 . q_0 = q_0$\n",
    "\n",
    "$q_1^2 = q_1 . q_1 = q_1$\n",
    "\n",
    "$E = -3q_0 + 4q_0q_1 -4q_1 + 4$\n",
    "\n",
    "dari persamaan tersebut, dapat dibentuk matriks Qubo (upper-triangular), yang terdiri dari bagian berikut ini,\n",
    "\n",
    "$Q = \\begin{bmatrix} -3 & 4 \\\\ 0 & -4 \\end{bmatrix}$\n",
    "\n",
    "## Eksekusi matrix Qubo\n",
    "Pada tahapan selanjutnya dapat digunakan wildqat untuk melakukan eksekusi masalah penjumlahan sederhana diatas menggunakan simulated annealing.\n",
    "\n",
    "lakukan pemanggilan library wildqat"
   ]
  },
  {
   "cell_type": "code",
   "execution_count": 4,
   "metadata": {},
   "outputs": [
    {
     "name": "stdout",
     "output_type": "stream",
     "text": [
      "Requirement already up-to-date: wildqat in /home/tambunan/anaconda3/lib/python3.7/site-packages (1.1.9)\n",
      "Requirement already satisfied, skipping upgrade: matplotlib==3.0.0 in /home/tambunan/anaconda3/lib/python3.7/site-packages (from wildqat) (3.0.0)\n",
      "Requirement already satisfied, skipping upgrade: numpy==1.15.1 in /home/tambunan/anaconda3/lib/python3.7/site-packages (from wildqat) (1.15.1)\n",
      "Requirement already satisfied, skipping upgrade: networkx==2.2 in /home/tambunan/anaconda3/lib/python3.7/site-packages (from wildqat) (2.2)\n",
      "Requirement already satisfied, skipping upgrade: kiwisolver>=1.0.1 in /home/tambunan/anaconda3/lib/python3.7/site-packages (from matplotlib==3.0.0->wildqat) (1.1.0)\n",
      "Requirement already satisfied, skipping upgrade: cycler>=0.10 in /home/tambunan/anaconda3/lib/python3.7/site-packages (from matplotlib==3.0.0->wildqat) (0.10.0)\n",
      "Requirement already satisfied, skipping upgrade: python-dateutil>=2.1 in /home/tambunan/anaconda3/lib/python3.7/site-packages (from matplotlib==3.0.0->wildqat) (2.8.0)\n",
      "Requirement already satisfied, skipping upgrade: pyparsing!=2.0.4,!=2.1.2,!=2.1.6,>=2.0.1 in /home/tambunan/anaconda3/lib/python3.7/site-packages (from matplotlib==3.0.0->wildqat) (2.4.2)\n",
      "Requirement already satisfied, skipping upgrade: decorator>=4.3.0 in /home/tambunan/anaconda3/lib/python3.7/site-packages (from networkx==2.2->wildqat) (4.4.0)\n",
      "Requirement already satisfied, skipping upgrade: setuptools in /home/tambunan/anaconda3/lib/python3.7/site-packages (from kiwisolver>=1.0.1->matplotlib==3.0.0->wildqat) (41.4.0)\n",
      "Requirement already satisfied, skipping upgrade: six in /home/tambunan/anaconda3/lib/python3.7/site-packages (from cycler>=0.10->matplotlib==3.0.0->wildqat) (1.12.0)\n"
     ]
    }
   ],
   "source": [
    "!pip install -U wildqat\n",
    "\n",
    "import wildqat as wq\n",
    "q = wq.opt()"
   ]
  },
  {
   "cell_type": "markdown",
   "metadata": {},
   "source": [
    "Deklarasi matrix Qubo, berikut ini:"
   ]
  },
  {
   "cell_type": "code",
   "execution_count": 2,
   "metadata": {},
   "outputs": [],
   "source": [
    "q.qubo = [[-3,4],[0,-4]]"
   ]
  },
  {
   "cell_type": "markdown",
   "metadata": {},
   "source": [
    "Kemudian eksekusi menggunakan simulated annealing,"
   ]
  },
  {
   "cell_type": "code",
   "execution_count": 3,
   "metadata": {},
   "outputs": [
    {
     "name": "stdout",
     "output_type": "stream",
     "text": [
      "[0, 1]\n"
     ]
    }
   ],
   "source": [
    "hasil = q.sa()\n",
    "print(hasil)"
   ]
  },
  {
   "cell_type": "markdown",
   "metadata": {},
   "source": [
    "Hasil eksekusi Qubo diatas, didapatkan nilai minimum untuk masalah Qubo pada penjumlahan sederhana. Matrix hasil tersebut menggambarkan nilai optimal/minimum untuk tiap qubits, dengan nilai $q_0=0$ dan nilai $q_1=1$\n",
    "\n",
    "Untuk Persamaan $x = q_0 + 2q_1$, \n",
    "\n",
    "dimana $x = 1+1$ maka, $ 1 + 1 = (0)+2(1)=2$\n",
    "\n",
    "<br>\n",
    "&NewLine;\n",
    "\n",
    "\n",
    "\n",
    "--------------------------\n",
    "Referensi: Yuichiro Minato <br>\n",
    "Sumber utama dari example Wildqat (_dengan sedikit modifikasi_)"
   ]
  },
  {
   "cell_type": "code",
   "execution_count": null,
   "metadata": {},
   "outputs": [],
   "source": []
  }
 ],
 "metadata": {
  "kernelspec": {
   "display_name": "Python 3",
   "language": "python",
   "name": "python3"
  },
  "language_info": {
   "codemirror_mode": {
    "name": "ipython",
    "version": 3
   },
   "file_extension": ".py",
   "mimetype": "text/x-python",
   "name": "python",
   "nbconvert_exporter": "python",
   "pygments_lexer": "ipython3",
   "version": "3.7.4"
  }
 },
 "nbformat": 4,
 "nbformat_minor": 4
}
